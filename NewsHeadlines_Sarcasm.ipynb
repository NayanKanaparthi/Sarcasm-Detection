{
  "nbformat": 4,
  "nbformat_minor": 0,
  "metadata": {
    "colab": {
      "provenance": [],
      "mount_file_id": "1lxljHSIC9Zn42jQ-UsNWOE62rLX7h9Pg",
      "authorship_tag": "ABX9TyMm04tneC/2diWtzSMfmfjg",
      "include_colab_link": true
    },
    "kernelspec": {
      "name": "python3",
      "display_name": "Python 3"
    },
    "language_info": {
      "name": "python"
    }
  },
  "cells": [
    {
      "cell_type": "markdown",
      "metadata": {
        "id": "view-in-github",
        "colab_type": "text"
      },
      "source": [
        "<a href=\"https://colab.research.google.com/github/NayanKanaparthi/Sarcasm-Detection/blob/main/NewsHeadlines_Sarcasm.ipynb\" target=\"_parent\"><img src=\"https://colab.research.google.com/assets/colab-badge.svg\" alt=\"Open In Colab\"/></a>"
      ]
    },
    {
      "cell_type": "code",
      "source": [
        "#!pip install tensorflow\n",
        "#!pip install keras|"
      ],
      "metadata": {
        "id": "Q7AbSU4ABA_r"
      },
      "execution_count": null,
      "outputs": []
    },
    {
      "cell_type": "code",
      "execution_count": null,
      "metadata": {
        "id": "xvJE55D2Aou0"
      },
      "outputs": [],
      "source": [
        "import json\n",
        "import tensorflow as tf\n",
        "\n",
        "from tensorflow.keras.preprocessing.text import Tokenizer\n",
        "from tensorflow.keras.preprocessing.sequence import pad_sequences"
      ]
    },
    {
      "cell_type": "code",
      "source": [
        "vocab_size = 10000\n",
        "embedding_dim =16\n",
        "max_length = 100\n",
        "trunc_type = 'post'\n",
        "padding_type = 'post'\n",
        "oov_token = \"<OOV>\"\n",
        "training_size = 20000"
      ],
      "metadata": {
        "id": "dHpodQ_xA9k5"
      },
      "execution_count": null,
      "outputs": []
    },
    {
      "cell_type": "code",
      "source": [
        "import json\n",
        "\n",
        "datastore = []\n",
        "with open(\"/content/drive/MyDrive/Machine learning/NLP/Sarcasm_Headlines_Dataset_v2.json\", 'r') as f:\n",
        "    for line in f:\n",
        "        datastore.append(json.loads(line))\n",
        "\n",
        "sentences = []\n",
        "labels = []\n",
        "urls = []\n",
        "for item in datastore:\n",
        "    sentences.append(item['headline'])\n",
        "    labels.append(item['is_sarcastic'])\n",
        "    urls.append(item['article_link'])\n",
        "\n"
      ],
      "metadata": {
        "id": "xIY8ZAeiB9TM"
      },
      "execution_count": null,
      "outputs": []
    },
    {
      "cell_type": "code",
      "source": [
        "training_sentences= sentences[0:training_size]\n",
        "testing_sentences = sentences[training_size:]\n",
        "training_labels = labels[0:training_size]\n",
        "testing_labels = labels[training_size:]"
      ],
      "metadata": {
        "id": "L7vdgEvYIHd-"
      },
      "execution_count": null,
      "outputs": []
    },
    {
      "cell_type": "code",
      "source": [
        "tokenizer = Tokenizer(num_words=vocab_size,oov_token=oov_token)\n",
        "tokenizer.fit_on_texts(training_sentences)\n",
        "word_index = tokenizer.word_index\n",
        "training_sequences = tokenizer.texts_to_sequences(training_sentences)\n",
        "testing_sequences = tokenizer.texts_to_sequences(testing_sentences)\n",
        "\n",
        "training_padded= pad_sequences(training_sequences, maxlen= max_length, padding= padding_type,truncating=trunc_type)\n",
        "testing_padded = pad_sequences(testing_sequences, maxlen= max_length, padding= padding_type,truncating=trunc_type)\n",
        "# labels are 0 and 1, so we can used them directly we dont have to pad them."
      ],
      "metadata": {
        "id": "-bcAtHv5NeQc"
      },
      "execution_count": null,
      "outputs": []
    },
    {
      "cell_type": "code",
      "source": [
        "import numpy as np\n",
        "training_padded= np.array(training_padded)\n",
        "training_labels=np.array(training_labels)\n",
        "\n",
        "testing_padded= np.array(testing_padded)\n",
        "testing_labels= np.array(testing_labels)\n"
      ],
      "metadata": {
        "id": "oIUIXHkSIFjw"
      },
      "execution_count": null,
      "outputs": []
    },
    {
      "cell_type": "code",
      "execution_count": null,
      "metadata": {
        "id": "FufaT4vlkiDE"
      },
      "outputs": [],
      "source": [
        "model = tf.keras.Sequential([\n",
        "    tf.keras.layers.Embedding(vocab_size, embedding_dim, input_length=max_length),\n",
        "    tf.keras.layers.GlobalAveragePooling1D(),\n",
        "    tf.keras.layers.Dense(24, activation='relu'),\n",
        "    tf.keras.layers.Dense(1, activation='sigmoid')\n",
        "])\n",
        "model.compile(loss='binary_crossentropy',optimizer='adam',metrics=['accuracy'])"
      ]
    },
    {
      "cell_type": "code",
      "execution_count": null,
      "metadata": {
        "id": "XfDt1hmYkiys",
        "colab": {
          "base_uri": "https://localhost:8080/"
        },
        "outputId": "2c8fddba-5454-4dbc-dfdb-2eff34e53577"
      },
      "outputs": [
        {
          "output_type": "stream",
          "name": "stdout",
          "text": [
            "Model: \"sequential\"\n",
            "_________________________________________________________________\n",
            " Layer (type)                Output Shape              Param #   \n",
            "=================================================================\n",
            " embedding (Embedding)       (None, 100, 16)           160000    \n",
            "                                                                 \n",
            " global_average_pooling1d (G  (None, 16)               0         \n",
            " lobalAveragePooling1D)                                          \n",
            "                                                                 \n",
            " dense (Dense)               (None, 24)                408       \n",
            "                                                                 \n",
            " dense_1 (Dense)             (None, 1)                 25        \n",
            "                                                                 \n",
            "=================================================================\n",
            "Total params: 160,433\n",
            "Trainable params: 160,433\n",
            "Non-trainable params: 0\n",
            "_________________________________________________________________\n"
          ]
        }
      ],
      "source": [
        "model.summary()\n"
      ]
    },
    {
      "cell_type": "code",
      "source": [
        "num_epochs = 30\n",
        "history = model.fit(training_padded, training_labels, epochs=num_epochs, validation_data=(testing_padded, testing_labels), verbose=2)"
      ],
      "metadata": {
        "colab": {
          "base_uri": "https://localhost:8080/"
        },
        "id": "nNZd-7MObEtx",
        "outputId": "e97f1920-5ac7-4449-a2e3-a9b3f998ad91"
      },
      "execution_count": null,
      "outputs": [
        {
          "output_type": "stream",
          "name": "stdout",
          "text": [
            "Epoch 1/30\n",
            "625/625 - 4s - loss: 0.6679 - accuracy: 0.5857 - val_loss: 0.5702 - val_accuracy: 0.8087 - 4s/epoch - 7ms/step\n",
            "Epoch 2/30\n",
            "625/625 - 3s - loss: 0.4358 - accuracy: 0.8314 - val_loss: 0.3809 - val_accuracy: 0.8401 - 3s/epoch - 5ms/step\n",
            "Epoch 3/30\n",
            "625/625 - 4s - loss: 0.3228 - accuracy: 0.8719 - val_loss: 0.3594 - val_accuracy: 0.8386 - 4s/epoch - 7ms/step\n",
            "Epoch 4/30\n",
            "625/625 - 3s - loss: 0.2720 - accuracy: 0.8945 - val_loss: 0.3344 - val_accuracy: 0.8561 - 3s/epoch - 5ms/step\n",
            "Epoch 5/30\n",
            "625/625 - 3s - loss: 0.2367 - accuracy: 0.9090 - val_loss: 0.3326 - val_accuracy: 0.8554 - 3s/epoch - 4ms/step\n",
            "Epoch 6/30\n",
            "625/625 - 3s - loss: 0.2096 - accuracy: 0.9218 - val_loss: 0.3386 - val_accuracy: 0.8537 - 3s/epoch - 5ms/step\n",
            "Epoch 7/30\n",
            "625/625 - 4s - loss: 0.1892 - accuracy: 0.9280 - val_loss: 0.3501 - val_accuracy: 0.8491 - 4s/epoch - 7ms/step\n",
            "Epoch 8/30\n",
            "625/625 - 3s - loss: 0.1705 - accuracy: 0.9384 - val_loss: 0.3802 - val_accuracy: 0.8387 - 3s/epoch - 5ms/step\n",
            "Epoch 9/30\n",
            "625/625 - 3s - loss: 0.1550 - accuracy: 0.9448 - val_loss: 0.3722 - val_accuracy: 0.8468 - 3s/epoch - 5ms/step\n",
            "Epoch 10/30\n",
            "625/625 - 3s - loss: 0.1411 - accuracy: 0.9491 - val_loss: 0.3982 - val_accuracy: 0.8394 - 3s/epoch - 5ms/step\n",
            "Epoch 11/30\n",
            "625/625 - 5s - loss: 0.1288 - accuracy: 0.9542 - val_loss: 0.4070 - val_accuracy: 0.8439 - 5s/epoch - 9ms/step\n",
            "Epoch 12/30\n",
            "625/625 - 3s - loss: 0.1186 - accuracy: 0.9594 - val_loss: 0.4301 - val_accuracy: 0.8393 - 3s/epoch - 5ms/step\n",
            "Epoch 13/30\n",
            "625/625 - 3s - loss: 0.1088 - accuracy: 0.9627 - val_loss: 0.4454 - val_accuracy: 0.8392 - 3s/epoch - 5ms/step\n",
            "Epoch 14/30\n",
            "625/625 - 3s - loss: 0.1010 - accuracy: 0.9667 - val_loss: 0.4749 - val_accuracy: 0.8342 - 3s/epoch - 5ms/step\n",
            "Epoch 15/30\n",
            "625/625 - 4s - loss: 0.0927 - accuracy: 0.9707 - val_loss: 0.5112 - val_accuracy: 0.8286 - 4s/epoch - 6ms/step\n",
            "Epoch 16/30\n",
            "625/625 - 4s - loss: 0.0843 - accuracy: 0.9732 - val_loss: 0.5695 - val_accuracy: 0.8250 - 4s/epoch - 6ms/step\n",
            "Epoch 17/30\n",
            "625/625 - 3s - loss: 0.0809 - accuracy: 0.9736 - val_loss: 0.5770 - val_accuracy: 0.8247 - 3s/epoch - 5ms/step\n",
            "Epoch 18/30\n",
            "625/625 - 3s - loss: 0.0737 - accuracy: 0.9774 - val_loss: 0.5837 - val_accuracy: 0.8274 - 3s/epoch - 5ms/step\n",
            "Epoch 19/30\n",
            "625/625 - 3s - loss: 0.0688 - accuracy: 0.9783 - val_loss: 0.6152 - val_accuracy: 0.8249 - 3s/epoch - 5ms/step\n",
            "Epoch 20/30\n",
            "625/625 - 4s - loss: 0.0636 - accuracy: 0.9804 - val_loss: 0.6458 - val_accuracy: 0.8229 - 4s/epoch - 7ms/step\n",
            "Epoch 21/30\n",
            "625/625 - 3s - loss: 0.0601 - accuracy: 0.9815 - val_loss: 0.6796 - val_accuracy: 0.8210 - 3s/epoch - 5ms/step\n",
            "Epoch 22/30\n",
            "625/625 - 3s - loss: 0.0543 - accuracy: 0.9837 - val_loss: 0.7402 - val_accuracy: 0.8195 - 3s/epoch - 4ms/step\n",
            "Epoch 23/30\n",
            "625/625 - 3s - loss: 0.0502 - accuracy: 0.9851 - val_loss: 0.7952 - val_accuracy: 0.8160 - 3s/epoch - 5ms/step\n",
            "Epoch 24/30\n",
            "625/625 - 5s - loss: 0.0463 - accuracy: 0.9872 - val_loss: 0.7835 - val_accuracy: 0.8171 - 5s/epoch - 7ms/step\n",
            "Epoch 25/30\n",
            "625/625 - 3s - loss: 0.0446 - accuracy: 0.9873 - val_loss: 0.8378 - val_accuracy: 0.8155 - 3s/epoch - 5ms/step\n",
            "Epoch 26/30\n",
            "625/625 - 3s - loss: 0.0405 - accuracy: 0.9887 - val_loss: 0.8633 - val_accuracy: 0.8138 - 3s/epoch - 5ms/step\n",
            "Epoch 27/30\n",
            "625/625 - 3s - loss: 0.0390 - accuracy: 0.9888 - val_loss: 0.9303 - val_accuracy: 0.8122 - 3s/epoch - 5ms/step\n",
            "Epoch 28/30\n",
            "625/625 - 4s - loss: 0.0377 - accuracy: 0.9888 - val_loss: 0.9474 - val_accuracy: 0.8118 - 4s/epoch - 7ms/step\n",
            "Epoch 29/30\n",
            "625/625 - 3s - loss: 0.0331 - accuracy: 0.9916 - val_loss: 1.0075 - val_accuracy: 0.8094 - 3s/epoch - 5ms/step\n",
            "Epoch 30/30\n",
            "625/625 - 3s - loss: 0.0312 - accuracy: 0.9915 - val_loss: 1.0087 - val_accuracy: 0.8019 - 3s/epoch - 5ms/step\n"
          ]
        }
      ]
    },
    {
      "cell_type": "code",
      "source": [
        "import matplotlib.pyplot as plt\n",
        "def plot_graphs(history,string):\n",
        "  plt.plot(history.history[string])\n",
        "  plt.plot(history.history['val_'+string])\n",
        "  plt.xlabel(\"Epochs\")\n",
        "  plt.ylabel(string)\n",
        "  plt.legend([string,'val_'+string])\n",
        "  plt.show()\n",
        "\n",
        "plot_graphs(history,\"accuracy\")\n",
        "plot_graphs(history,\"loss\")"
      ],
      "metadata": {
        "id": "BqoPhEvRY2XD",
        "colab": {
          "base_uri": "https://localhost:8080/"
        },
        "outputId": "ad4ac262-7fd2-476e-8e24-cab50f386c64"
      },
      "execution_count": null,
      "outputs": [
        {
          "output_type": "display_data",
          "data": {
            "text/plain": [
              "<Figure size 640x480 with 1 Axes>"
            ],
            "image/png": "[encoded data removed]"
          },
          "metadata": {}
        },
        {
          "output_type": "display_data",
          "data": {
            "text/plain": [
              "<Figure size 640x480 with 1 Axes>"
            ],
            "image/png": "[encoded data removed]"
          },
          "metadata": {}
        }
      ]
    },
    {
      "cell_type": "code",
      "source": [
        "reverse_word_index = dict([(value, key) for (key, value) in word_index.items()])\n",
        "\n",
        "def decode_sentence(text):\n",
        "    return ' '.join([reverse_word_index.get(i, '?') for i in text])\n",
        "\n",
        "print(decode_sentence(training_padded[0]))\n",
        "print(training_sentences[2])\n",
        "print(labels[2])"
      ],
      "metadata": {
        "colab": {
          "base_uri": "https://localhost:8080/"
        },
        "id": "W4p-c4deciud",
        "outputId": "4a7deb0d-5f7d-4cb6-9ed1-66800bcfbf94"
      },
      "execution_count": null,
      "outputs": [
        {
          "output_type": "stream",
          "name": "stdout",
          "text": [
            "<OOV> scientists unveil doomsday clock of hair loss ? ? ? ? ? ? ? ? ? ? ? ? ? ? ? ? ? ? ? ? ? ? ? ? ? ? ? ? ? ? ? ? ? ? ? ? ? ? ? ? ? ? ? ? ? ? ? ? ? ? ? ? ? ? ? ? ? ? ? ? ? ? ? ? ? ? ? ? ? ? ? ? ? ? ? ? ? ? ? ? ? ? ? ? ? ? ? ? ? ? ? ?\n",
            "eat your veggies: 9 deliciously different recipes\n",
            "0\n"
          ]
        }
      ]
    },
    {
      "cell_type": "code",
      "execution_count": null,
      "metadata": {
        "id": "c9MqihtEkzQ9",
        "colab": {
          "base_uri": "https://localhost:8080/"
        },
        "outputId": "9d653ec8-2ccb-4023-f5dc-efebb8c89735"
      },
      "outputs": [
        {
          "output_type": "stream",
          "name": "stdout",
          "text": [
            "(10000, 16)\n"
          ]
        }
      ],
      "source": [
        "e = model.layers[0]\n",
        "weights = e.get_weights()[0]\n",
        "print(weights.shape) # shape: (vocab_size, embedding_dim)\n"
      ]
    },
    {
      "cell_type": "code",
      "execution_count": null,
      "metadata": {
        "id": "LoBXVffknldU"
      },
      "outputs": [],
      "source": [
        "import io\n",
        "\n",
        "out_v = io.open('vecs.tsv', 'w', encoding='utf-8')\n",
        "out_m = io.open('meta.tsv', 'w', encoding='utf-8')\n",
        "for word_num in range(1, vocab_size):\n",
        "  word = reverse_word_index[word_num]\n",
        "  embeddings = weights[word_num]\n",
        "  out_m.write(word + \"\\n\")\n",
        "  out_v.write('\\t'.join([str(x) for x in embeddings]) + \"\\n\")\n",
        "out_v.close()\n",
        "out_m.close()"
      ]
    },
    {
      "cell_type": "code",
      "execution_count": null,
      "metadata": {
        "id": "U4eZ5HtVnnEE",
        "colab": {
          "base_uri": "https://localhost:8080/",
          "height": 17
        },
        "outputId": "852e30e9-108b-4fbf-e8e2-94703243c3ca"
      },
      "outputs": [
        {
          "output_type": "display_data",
          "data": {
            "text/plain": [
              "<IPython.core.display.Javascript object>"
            ],
            "application/javascript": [
              "\n",
              "    async function download(id, filename, size) {\n",
              "      if (!google.colab.kernel.accessAllowed) {\n",
              "        return;\n",
              "      }\n",
              "      const div = document.createElement('div');\n",
              "      const label = document.createElement('label');\n",
              "      label.textContent = `Downloading \"${filename}\": `;\n",
              "      div.appendChild(label);\n",
              "      const progress = document.createElement('progress');\n",
              "      progress.max = size;\n",
              "      div.appendChild(progress);\n",
              "      document.body.appendChild(div);\n",
              "\n",
              "      const buffers = [];\n",
              "      let downloaded = 0;\n",
              "\n",
              "      const channel = await google.colab.kernel.comms.open(id);\n",
              "      // Send a message to notify the kernel that we're ready.\n",
              "      channel.send({})\n",
              "\n",
              "      for await (const message of channel.messages) {\n",
              "        // Send a message to notify the kernel that we're ready.\n",
              "        channel.send({})\n",
              "        if (message.buffers) {\n",
              "          for (const buffer of message.buffers) {\n",
              "            buffers.push(buffer);\n",
              "            downloaded += buffer.byteLength;\n",
              "            progress.value = downloaded;\n",
              "          }\n",
              "        }\n",
              "      }\n",
              "      const blob = new Blob(buffers, {type: 'application/binary'});\n",
              "      const a = document.createElement('a');\n",
              "      a.href = window.URL.createObjectURL(blob);\n",
              "      a.download = filename;\n",
              "      div.appendChild(a);\n",
              "      a.click();\n",
              "      div.remove();\n",
              "    }\n",
              "  "
            ]
          },
          "metadata": {}
        },
        {
          "output_type": "display_data",
          "data": {
            "text/plain": [
              "<IPython.core.display.Javascript object>"
            ],
            "application/javascript": [
              "download(\"download_2b3fd0c8-a952-4ff9-8051-7f418835e5cb\", \"vecs.tsv\", 1807116)"
            ]
          },
          "metadata": {}
        },
        {
          "output_type": "display_data",
          "data": {
            "text/plain": [
              "<IPython.core.display.Javascript object>"
            ],
            "application/javascript": [
              "\n",
              "    async function download(id, filename, size) {\n",
              "      if (!google.colab.kernel.accessAllowed) {\n",
              "        return;\n",
              "      }\n",
              "      const div = document.createElement('div');\n",
              "      const label = document.createElement('label');\n",
              "      label.textContent = `Downloading \"${filename}\": `;\n",
              "      div.appendChild(label);\n",
              "      const progress = document.createElement('progress');\n",
              "      progress.max = size;\n",
              "      div.appendChild(progress);\n",
              "      document.body.appendChild(div);\n",
              "\n",
              "      const buffers = [];\n",
              "      let downloaded = 0;\n",
              "\n",
              "      const channel = await google.colab.kernel.comms.open(id);\n",
              "      // Send a message to notify the kernel that we're ready.\n",
              "      channel.send({})\n",
              "\n",
              "      for await (const message of channel.messages) {\n",
              "        // Send a message to notify the kernel that we're ready.\n",
              "        channel.send({})\n",
              "        if (message.buffers) {\n",
              "          for (const buffer of message.buffers) {\n",
              "            buffers.push(buffer);\n",
              "            downloaded += buffer.byteLength;\n",
              "            progress.value = downloaded;\n",
              "          }\n",
              "        }\n",
              "      }\n",
              "      const blob = new Blob(buffers, {type: 'application/binary'});\n",
              "      const a = document.createElement('a');\n",
              "      a.href = window.URL.createObjectURL(blob);\n",
              "      a.download = filename;\n",
              "      div.appendChild(a);\n",
              "      a.click();\n",
              "      div.remove();\n",
              "    }\n",
              "  "
            ]
          },
          "metadata": {}
        },
        {
          "output_type": "display_data",
          "data": {
            "text/plain": [
              "<IPython.core.display.Javascript object>"
            ],
            "application/javascript": [
              "download(\"download_b3c4d8b1-ec5c-4e5e-b5c6-a003ec91013a\", \"meta.tsv\", 76033)"
            ]
          },
          "metadata": {}
        }
      ],
      "source": [
        "try:\n",
        "  from google.colab import files\n",
        "except ImportError:\n",
        "  pass\n",
        "else:\n",
        "  files.download('vecs.tsv')\n",
        "  files.download('meta.tsv')"
      ]
    },
    {
      "cell_type": "code",
      "source": [
        "#example:\n",
        "sentence =[\"granny starting to fear spiders in the garden might be real\",\"the weather today is bright and sunny\"]\n",
        "sequences= tokenizer.texts_to_sequences(sentence)\n",
        "padded= pad_sequences(sequences,maxlen=max_length,padding=padding_type,truncating=trunc_type)\n",
        "print(model.predict(padded))"
      ],
      "metadata": {
        "id": "pfw62-8wbKYT",
        "colab": {
          "base_uri": "https://localhost:8080/"
        },
        "outputId": "046ffc12-443a-4961-8b3f-bb4cfadfc82e"
      },
      "execution_count": null,
      "outputs": [
        {
          "output_type": "stream",
          "name": "stdout",
          "text": [
            "1/1 [==============================] - 0s 108ms/step\n",
            "[[9.714339e-01]\n",
            " [9.575098e-05]]\n"
          ]
        }
      ]
    },
    {
      "cell_type": "code",
      "source": [
        "print(np.round(3.7253714e-01))"
      ],
      "metadata": {
        "colab": {
          "base_uri": "https://localhost:8080/"
        },
        "id": "N_PFm7R16ueb",
        "outputId": "64010bf3-529d-4e3b-b8d3-6e27874fd749"
      },
      "execution_count": null,
      "outputs": [
        {
          "output_type": "stream",
          "name": "stdout",
          "text": [
            "0.0\n"
          ]
        }
      ]
    },
    {
      "cell_type": "code",
      "source": [
        "import matplotlib.pyplot as plt\n",
        "\n",
        "# Output values\n",
        "output = [[3.7253714e-01], [6.6311077e-02]]\n",
        "\n",
        "# Reshape the output to 1D\n",
        "output = [val[0] for val in output]\n",
        "\n",
        "# Categories for the x-axis\n",
        "categories = ['Sarcasm', 'Non-Sarcasm']\n",
        "\n",
        "# Plot the graph\n",
        "plt.bar(categories, output)\n",
        "plt.xlabel('Categories')\n",
        "plt.ylabel('Output')\n",
        "plt.title('Sarcasm Detection')\n",
        "plt.show()\n",
        "\n"
      ],
      "metadata": {
        "colab": {
          "base_uri": "https://localhost:8080/"
        },
        "id": "m6kjfy3JiJyA",
        "outputId": "28aa5d6e-749b-431d-863e-27e60d605cbe"
      },
      "execution_count": null,
      "outputs": [
        {
          "output_type": "display_data",
          "data": {
            "text/plain": [
              "<Figure size 640x480 with 1 Axes>"
            ],
            "image/png": "[encoded data removed]"
          },
          "metadata": {}
        }
      ]
    },
    {
      "cell_type": "code",
      "source": [],
      "metadata": {
        "id": "hP-gx2HrpzWp"
      },
      "execution_count": null,
      "outputs": []
    }
  ]
}