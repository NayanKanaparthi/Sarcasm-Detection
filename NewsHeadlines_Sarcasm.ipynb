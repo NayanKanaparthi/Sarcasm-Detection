{
  "nbformat": 4,
  "nbformat_minor": 0,
  "metadata": {
    "colab": {
      "provenance": [],
      "mount_file_id": "1lxljHSIC9Zn42jQ-UsNWOE62rLX7h9Pg",
      "authorship_tag": "ABX9TyPqVasP+NHbdCkD36pWlPWx",
      "include_colab_link": true
    },
    "kernelspec": {
      "name": "python3",
      "display_name": "Python 3"
    },
    "language_info": {
      "name": "python"
    }
  },
  "cells": [
    {
      "cell_type": "markdown",
      "metadata": {
        "id": "view-in-github",
        "colab_type": "text"
      },
      "source": [
        "<a href=\"https://colab.research.google.com/github/NayanKanaparthi/Sarcasm-Detection/blob/main/NewsHeadlines_Sarcasm.ipynb\" target=\"_parent\"><img src=\"https://colab.research.google.com/assets/colab-badge.svg\" alt=\"Open In Colab\"/></a>"
      ]
    },
    {
      "cell_type": "code",
      "source": [
        "#!pip install tensorflow\n",
        "#!pip install keras|"
      ],
      "metadata": {
        "id": "Q7AbSU4ABA_r"
      },
      "execution_count": 23,
      "outputs": []
    },
    {
      "cell_type": "code",
      "execution_count": 2,
      "metadata": {
        "id": "xvJE55D2Aou0"
      },
      "outputs": [],
      "source": [
        "import json\n",
        "import tensorflow as tf\n",
        "\n",
        "from tensorflow.keras.preprocessing.text import Tokenizer\n",
        "from tensorflow.keras.preprocessing.sequence import pad_sequences"
      ]
    },
    {
      "cell_type": "code",
      "source": [
        "vocab_size = 10000\n",
        "embedding_dim =16\n",
        "max_length = 100\n",
        "trunc_type = 'post'\n",
        "padding_type = 'post'\n",
        "oov_token = \"<OOV>\"\n",
        "training_size = 20000"
      ],
      "metadata": {
        "id": "dHpodQ_xA9k5"
      },
      "execution_count": 3,
      "outputs": []
    },
    {
      "cell_type": "code",
      "source": [
        "import json\n",
        "\n",
        "datastore = []\n",
        "with open(\"/content/drive/MyDrive/Machine learning/NLP/Sarcasm_Headlines_Dataset_v2.json\", 'r') as f:\n",
        "    for line in f:\n",
        "        datastore.append(json.loads(line))\n",
        "\n",
        "sentences = []\n",
        "labels = []\n",
        "urls = []\n",
        "for item in datastore:\n",
        "    sentences.append(item['headline'])\n",
        "    labels.append(item['is_sarcastic'])\n",
        "    urls.append(item['article_link'])\n",
        "\n"
      ],
      "metadata": {
        "id": "xIY8ZAeiB9TM"
      },
      "execution_count": 4,
      "outputs": []
    },
    {
      "cell_type": "code",
      "source": [
        "training_sentences= sentences[0:training_size]\n",
        "testing_sentences = sentences[training_size:]\n",
        "training_labels = labels[0:training_size]\n",
        "testing_labels = labels[training_size:]"
      ],
      "metadata": {
        "id": "L7vdgEvYIHd-"
      },
      "execution_count": 5,
      "outputs": []
    },
    {
      "cell_type": "code",
      "source": [
        "tokenizer = Tokenizer(num_words=vocab_size,oov_token=oov_token)\n",
        "tokenizer.fit_on_texts(training_sentences)\n",
        "word_index = tokenizer.word_index\n",
        "training_sequences = tokenizer.texts_to_sequences(training_sentences)\n",
        "testing_sequences = tokenizer.texts_to_sequences(testing_sentences)\n",
        "\n",
        "training_padded= pad_sequences(training_sequences, maxlen= max_length, padding= padding_type,truncating=trunc_type)\n",
        "testing_padded = pad_sequences(testing_sequences, maxlen= max_length, padding= padding_type,truncating=trunc_type)\n",
        "# labels are 0 and 1, so we can used them directly we dont have to pad them."
      ],
      "metadata": {
        "id": "-bcAtHv5NeQc"
      },
      "execution_count": 6,
      "outputs": []
    },
    {
      "cell_type": "code",
      "source": [
        "import numpy as np\n",
        "training_padded= np.array(training_padded)\n",
        "training_labels=np.array(training_labels)\n",
        "\n",
        "testing_padded= np.array(testing_padded)\n",
        "testing_labels= np.array(testing_labels)\n"
      ],
      "metadata": {
        "id": "oIUIXHkSIFjw"
      },
      "execution_count": 7,
      "outputs": []
    },
    {
      "cell_type": "code",
      "execution_count": 8,
      "metadata": {
        "id": "FufaT4vlkiDE"
      },
      "outputs": [],
      "source": [
        "model = tf.keras.Sequential([\n",
        "    tf.keras.layers.Embedding(vocab_size, embedding_dim, input_length=max_length),\n",
        "    tf.keras.layers.GlobalAveragePooling1D(),\n",
        "    tf.keras.layers.Dense(24, activation='relu'),\n",
        "    tf.keras.layers.Dense(1, activation='sigmoid')\n",
        "])\n",
        "model.compile(loss='binary_crossentropy',optimizer='adam',metrics=['accuracy'])"
      ]
    },
    {
      "cell_type": "code",
      "execution_count": 9,
      "metadata": {
        "id": "XfDt1hmYkiys",
        "colab": {
          "base_uri": "https://localhost:8080/",
          "height": 0
        },
        "outputId": "055e377f-1e86-4519-a7d5-5c09517315e5"
      },
      "outputs": [
        {
          "output_type": "stream",
          "name": "stdout",
          "text": [
            "Model: \"sequential\"\n",
            "_________________________________________________________________\n",
            " Layer (type)                Output Shape              Param #   \n",
            "=================================================================\n",
            " embedding (Embedding)       (None, 100, 16)           160000    \n",
            "                                                                 \n",
            " global_average_pooling1d (G  (None, 16)               0         \n",
            " lobalAveragePooling1D)                                          \n",
            "                                                                 \n",
            " dense (Dense)               (None, 24)                408       \n",
            "                                                                 \n",
            " dense_1 (Dense)             (None, 1)                 25        \n",
            "                                                                 \n",
            "=================================================================\n",
            "Total params: 160,433\n",
            "Trainable params: 160,433\n",
            "Non-trainable params: 0\n",
            "_________________________________________________________________\n"
          ]
        }
      ],
      "source": [
        "model.summary()\n"
      ]
    },
    {
      "cell_type": "code",
      "source": [
        "num_epochs = 30\n",
        "history = model.fit(training_padded, training_labels, epochs=num_epochs, validation_data=(testing_padded, testing_labels), verbose=2)"
      ],
      "metadata": {
        "colab": {
          "base_uri": "https://localhost:8080/",
          "height": 0
        },
        "id": "nNZd-7MObEtx",
        "outputId": "c58a8289-6741-4fcc-9eca-957ab31eb7f2"
      },
      "execution_count": 10,
      "outputs": [
        {
          "output_type": "stream",
          "name": "stdout",
          "text": [
            "Epoch 1/30\n",
            "625/625 - 6s - loss: 0.6558 - accuracy: 0.6185 - val_loss: 0.5405 - val_accuracy: 0.7974 - 6s/epoch - 9ms/step\n",
            "Epoch 2/30\n",
            "625/625 - 3s - loss: 0.4158 - accuracy: 0.8353 - val_loss: 0.3739 - val_accuracy: 0.8409 - 3s/epoch - 4ms/step\n",
            "Epoch 3/30\n",
            "625/625 - 3s - loss: 0.3104 - accuracy: 0.8766 - val_loss: 0.3397 - val_accuracy: 0.8569 - 3s/epoch - 4ms/step\n",
            "Epoch 4/30\n",
            "625/625 - 3s - loss: 0.2595 - accuracy: 0.8981 - val_loss: 0.3319 - val_accuracy: 0.8585 - 3s/epoch - 5ms/step\n",
            "Epoch 5/30\n",
            "625/625 - 4s - loss: 0.2232 - accuracy: 0.9147 - val_loss: 0.3380 - val_accuracy: 0.8560 - 4s/epoch - 6ms/step\n",
            "Epoch 6/30\n",
            "625/625 - 3s - loss: 0.1967 - accuracy: 0.9259 - val_loss: 0.3425 - val_accuracy: 0.8567 - 3s/epoch - 5ms/step\n",
            "Epoch 7/30\n",
            "625/625 - 3s - loss: 0.1756 - accuracy: 0.9348 - val_loss: 0.3542 - val_accuracy: 0.8533 - 3s/epoch - 5ms/step\n",
            "Epoch 8/30\n",
            "625/625 - 3s - loss: 0.1569 - accuracy: 0.9423 - val_loss: 0.3773 - val_accuracy: 0.8457 - 3s/epoch - 4ms/step\n",
            "Epoch 9/30\n",
            "625/625 - 3s - loss: 0.1407 - accuracy: 0.9492 - val_loss: 0.3913 - val_accuracy: 0.8471 - 3s/epoch - 4ms/step\n",
            "Epoch 10/30\n",
            "625/625 - 4s - loss: 0.1274 - accuracy: 0.9540 - val_loss: 0.4146 - val_accuracy: 0.8438 - 4s/epoch - 7ms/step\n",
            "Epoch 11/30\n",
            "625/625 - 3s - loss: 0.1170 - accuracy: 0.9589 - val_loss: 0.4672 - val_accuracy: 0.8320 - 3s/epoch - 4ms/step\n",
            "Epoch 12/30\n",
            "625/625 - 3s - loss: 0.1057 - accuracy: 0.9631 - val_loss: 0.4710 - val_accuracy: 0.8349 - 3s/epoch - 4ms/step\n",
            "Epoch 13/30\n",
            "625/625 - 3s - loss: 0.0957 - accuracy: 0.9682 - val_loss: 0.5018 - val_accuracy: 0.8323 - 3s/epoch - 5ms/step\n",
            "Epoch 14/30\n",
            "625/625 - 4s - loss: 0.0872 - accuracy: 0.9707 - val_loss: 0.5402 - val_accuracy: 0.8306 - 4s/epoch - 6ms/step\n",
            "Epoch 15/30\n",
            "625/625 - 3s - loss: 0.0801 - accuracy: 0.9747 - val_loss: 0.5687 - val_accuracy: 0.8296 - 3s/epoch - 5ms/step\n",
            "Epoch 16/30\n",
            "625/625 - 3s - loss: 0.0728 - accuracy: 0.9760 - val_loss: 0.6111 - val_accuracy: 0.8241 - 3s/epoch - 5ms/step\n",
            "Epoch 17/30\n",
            "625/625 - 3s - loss: 0.0673 - accuracy: 0.9793 - val_loss: 0.7055 - val_accuracy: 0.8204 - 3s/epoch - 4ms/step\n",
            "Epoch 18/30\n",
            "625/625 - 3s - loss: 0.0616 - accuracy: 0.9811 - val_loss: 0.6834 - val_accuracy: 0.8246 - 3s/epoch - 4ms/step\n",
            "Epoch 19/30\n",
            "625/625 - 4s - loss: 0.0563 - accuracy: 0.9830 - val_loss: 0.7261 - val_accuracy: 0.8159 - 4s/epoch - 7ms/step\n",
            "Epoch 20/30\n",
            "625/625 - 3s - loss: 0.0522 - accuracy: 0.9833 - val_loss: 0.7589 - val_accuracy: 0.8204 - 3s/epoch - 5ms/step\n",
            "Epoch 21/30\n",
            "625/625 - 3s - loss: 0.0484 - accuracy: 0.9847 - val_loss: 0.8003 - val_accuracy: 0.8176 - 3s/epoch - 4ms/step\n",
            "Epoch 22/30\n",
            "625/625 - 3s - loss: 0.0434 - accuracy: 0.9874 - val_loss: 0.8663 - val_accuracy: 0.8167 - 3s/epoch - 4ms/step\n",
            "Epoch 23/30\n",
            "625/625 - 3s - loss: 0.0403 - accuracy: 0.9884 - val_loss: 0.8831 - val_accuracy: 0.8146 - 3s/epoch - 5ms/step\n",
            "Epoch 24/30\n",
            "625/625 - 4s - loss: 0.0362 - accuracy: 0.9900 - val_loss: 0.9298 - val_accuracy: 0.8126 - 4s/epoch - 7ms/step\n",
            "Epoch 25/30\n",
            "625/625 - 3s - loss: 0.0359 - accuracy: 0.9895 - val_loss: 1.0109 - val_accuracy: 0.8112 - 3s/epoch - 5ms/step\n",
            "Epoch 26/30\n",
            "625/625 - 3s - loss: 0.0324 - accuracy: 0.9909 - val_loss: 1.0213 - val_accuracy: 0.8110 - 3s/epoch - 5ms/step\n",
            "Epoch 27/30\n",
            "625/625 - 3s - loss: 0.0285 - accuracy: 0.9920 - val_loss: 1.0572 - val_accuracy: 0.8102 - 3s/epoch - 5ms/step\n",
            "Epoch 28/30\n",
            "625/625 - 4s - loss: 0.0271 - accuracy: 0.9924 - val_loss: 1.0917 - val_accuracy: 0.8058 - 4s/epoch - 6ms/step\n",
            "Epoch 29/30\n",
            "625/625 - 3s - loss: 0.0252 - accuracy: 0.9932 - val_loss: 1.1319 - val_accuracy: 0.8011 - 3s/epoch - 4ms/step\n",
            "Epoch 30/30\n",
            "625/625 - 3s - loss: 0.0227 - accuracy: 0.9941 - val_loss: 1.2289 - val_accuracy: 0.8050 - 3s/epoch - 4ms/step\n"
          ]
        }
      ]
    },
    {
      "cell_type": "code",
      "source": [
        "import matplotlib.pyplot as plt\n",
        "def plot_graphs(history,string):\n",
        "  plt.plot(history.history[string])\n",
        "  plt.plot(history.history['val_'+string])\n",
        "  plt.xlabel(\"Epochs\")\n",
        "  plt.ylabel(string)\n",
        "  plt.legend([string,'val_'+string])\n",
        "  plt.show()\n",
        "\n",
        "plot_graphs(history,\"accuracy\")\n",
        "plot_graphs(history,\"loss\")"
      ],
      "metadata": {
        "id": "BqoPhEvRY2XD",
        "colab": {
          "base_uri": "https://localhost:8080/",
          "height": 881
        },
        "outputId": "71b7227e-2f60-44f3-fb1b-a14308d062b0"
      },
      "execution_count": 12,
      "outputs": [
        {
          "output_type": "display_data",
          "data": {
            "text/plain": [
              "<Figure size 640x480 with 1 Axes>"
            ],
            "image/png": "[encoded data removed]"
          },
          "metadata": {}
        },
        {
          "output_type": "display_data",
          "data": {
            "text/plain": [
              "<Figure size 640x480 with 1 Axes>"
            ],
            "image/png": "[encoded data removed]"
          },
          "metadata": {}
        }
      ]
    },
    {
      "cell_type": "code",
      "source": [
        "reverse_word_index = dict([(value, key) for (key, value) in word_index.items()])\n",
        "\n",
        "def decode_sentence(text):\n",
        "    return ' '.join([reverse_word_index.get(i, '?') for i in text])\n",
        "\n",
        "print(decode_sentence(training_padded[0]))\n",
        "print(training_sentences[2])\n",
        "print(labels[2])"
      ],
      "metadata": {
        "colab": {
          "base_uri": "https://localhost:8080/",
          "height": 0
        },
        "id": "W4p-c4deciud",
        "outputId": "8799ac22-0138-47aa-a929-d1c6d9656a43"
      },
      "execution_count": 13,
      "outputs": [
        {
          "output_type": "stream",
          "name": "stdout",
          "text": [
            "<OOV> scientists unveil doomsday clock of hair loss ? ? ? ? ? ? ? ? ? ? ? ? ? ? ? ? ? ? ? ? ? ? ? ? ? ? ? ? ? ? ? ? ? ? ? ? ? ? ? ? ? ? ? ? ? ? ? ? ? ? ? ? ? ? ? ? ? ? ? ? ? ? ? ? ? ? ? ? ? ? ? ? ? ? ? ? ? ? ? ? ? ? ? ? ? ? ? ? ? ? ? ?\n",
            "eat your veggies: 9 deliciously different recipes\n",
            "0\n"
          ]
        }
      ]
    },
    {
      "cell_type": "code",
      "execution_count": 14,
      "metadata": {
        "id": "c9MqihtEkzQ9",
        "colab": {
          "base_uri": "https://localhost:8080/",
          "height": 0
        },
        "outputId": "31a9c445-0852-46c3-852f-63176bb6d686"
      },
      "outputs": [
        {
          "output_type": "stream",
          "name": "stdout",
          "text": [
            "(10000, 16)\n"
          ]
        }
      ],
      "source": [
        "e = model.layers[0]\n",
        "weights = e.get_weights()[0]\n",
        "print(weights.shape) # shape: (vocab_size, embedding_dim)\n"
      ]
    },
    {
      "cell_type": "code",
      "execution_count": 15,
      "metadata": {
        "id": "LoBXVffknldU"
      },
      "outputs": [],
      "source": [
        "import io\n",
        "\n",
        "out_v = io.open('vecs.tsv', 'w', encoding='utf-8')\n",
        "out_m = io.open('meta.tsv', 'w', encoding='utf-8')\n",
        "for word_num in range(1, vocab_size):\n",
        "  word = reverse_word_index[word_num]\n",
        "  embeddings = weights[word_num]\n",
        "  out_m.write(word + \"\\n\")\n",
        "  out_v.write('\\t'.join([str(x) for x in embeddings]) + \"\\n\")\n",
        "out_v.close()\n",
        "out_m.close()"
      ]
    },
    {
      "cell_type": "code",
      "execution_count": 16,
      "metadata": {
        "id": "U4eZ5HtVnnEE",
        "colab": {
          "base_uri": "https://localhost:8080/",
          "height": 17
        },
        "outputId": "7407ca56-1a8a-41b3-f21c-17a0ae163f9d"
      },
      "outputs": [
        {
          "output_type": "display_data",
          "data": {
            "text/plain": [
              "<IPython.core.display.Javascript object>"
            ],
            "application/javascript": [
              "\n",
              "    async function download(id, filename, size) {\n",
              "      if (!google.colab.kernel.accessAllowed) {\n",
              "        return;\n",
              "      }\n",
              "      const div = document.createElement('div');\n",
              "      const label = document.createElement('label');\n",
              "      label.textContent = `Downloading \"${filename}\": `;\n",
              "      div.appendChild(label);\n",
              "      const progress = document.createElement('progress');\n",
              "      progress.max = size;\n",
              "      div.appendChild(progress);\n",
              "      document.body.appendChild(div);\n",
              "\n",
              "      const buffers = [];\n",
              "      let downloaded = 0;\n",
              "\n",
              "      const channel = await google.colab.kernel.comms.open(id);\n",
              "      // Send a message to notify the kernel that we're ready.\n",
              "      channel.send({})\n",
              "\n",
              "      for await (const message of channel.messages) {\n",
              "        // Send a message to notify the kernel that we're ready.\n",
              "        channel.send({})\n",
              "        if (message.buffers) {\n",
              "          for (const buffer of message.buffers) {\n",
              "            buffers.push(buffer);\n",
              "            downloaded += buffer.byteLength;\n",
              "            progress.value = downloaded;\n",
              "          }\n",
              "        }\n",
              "      }\n",
              "      const blob = new Blob(buffers, {type: 'application/binary'});\n",
              "      const a = document.createElement('a');\n",
              "      a.href = window.URL.createObjectURL(blob);\n",
              "      a.download = filename;\n",
              "      div.appendChild(a);\n",
              "      a.click();\n",
              "      div.remove();\n",
              "    }\n",
              "  "
            ]
          },
          "metadata": {}
        },
        {
          "output_type": "display_data",
          "data": {
            "text/plain": [
              "<IPython.core.display.Javascript object>"
            ],
            "application/javascript": [
              "download(\"download_9589fdf0-60bb-4cdb-a8b9-584956823dd1\", \"vecs.tsv\", 1819000)"
            ]
          },
          "metadata": {}
        },
        {
          "output_type": "display_data",
          "data": {
            "text/plain": [
              "<IPython.core.display.Javascript object>"
            ],
            "application/javascript": [
              "\n",
              "    async function download(id, filename, size) {\n",
              "      if (!google.colab.kernel.accessAllowed) {\n",
              "        return;\n",
              "      }\n",
              "      const div = document.createElement('div');\n",
              "      const label = document.createElement('label');\n",
              "      label.textContent = `Downloading \"${filename}\": `;\n",
              "      div.appendChild(label);\n",
              "      const progress = document.createElement('progress');\n",
              "      progress.max = size;\n",
              "      div.appendChild(progress);\n",
              "      document.body.appendChild(div);\n",
              "\n",
              "      const buffers = [];\n",
              "      let downloaded = 0;\n",
              "\n",
              "      const channel = await google.colab.kernel.comms.open(id);\n",
              "      // Send a message to notify the kernel that we're ready.\n",
              "      channel.send({})\n",
              "\n",
              "      for await (const message of channel.messages) {\n",
              "        // Send a message to notify the kernel that we're ready.\n",
              "        channel.send({})\n",
              "        if (message.buffers) {\n",
              "          for (const buffer of message.buffers) {\n",
              "            buffers.push(buffer);\n",
              "            downloaded += buffer.byteLength;\n",
              "            progress.value = downloaded;\n",
              "          }\n",
              "        }\n",
              "      }\n",
              "      const blob = new Blob(buffers, {type: 'application/binary'});\n",
              "      const a = document.createElement('a');\n",
              "      a.href = window.URL.createObjectURL(blob);\n",
              "      a.download = filename;\n",
              "      div.appendChild(a);\n",
              "      a.click();\n",
              "      div.remove();\n",
              "    }\n",
              "  "
            ]
          },
          "metadata": {}
        },
        {
          "output_type": "display_data",
          "data": {
            "text/plain": [
              "<IPython.core.display.Javascript object>"
            ],
            "application/javascript": [
              "download(\"download_2b255b18-0a2d-4bf1-9548-73230e02cb54\", \"meta.tsv\", 76033)"
            ]
          },
          "metadata": {}
        }
      ],
      "source": [
        "try:\n",
        "  from google.colab import files\n",
        "except ImportError:\n",
        "  pass\n",
        "else:\n",
        "  files.download('vecs.tsv')\n",
        "  files.download('meta.tsv')"
      ]
    },
    {
      "cell_type": "code",
      "source": [
        "#example:\n",
        "sentence =[\"granny starting to fear spiders in the garden might be real\",\"the weather today is bright and sunny\"]\n",
        "sequences= tokenizer.texts_to_sequences(sentence)\n",
        "padded= pad_sequences(sequences,maxlen=max_length,padding=padding_type,truncating=trunc_type)\n",
        "print(model.predict(padded))"
      ],
      "metadata": {
        "id": "pfw62-8wbKYT",
        "colab": {
          "base_uri": "https://localhost:8080/"
        },
        "outputId": "d15f2f7d-5eed-4be7-bc70-d77aacaa45b6"
      },
      "execution_count": 17,
      "outputs": [
        {
          "output_type": "stream",
          "name": "stdout",
          "text": [
            "1/1 [==============================] - 0s 38ms/step\n",
            "[[3.7253714e-01]\n",
            " [6.6311077e-07]]\n"
          ]
        }
      ]
    },
    {
      "cell_type": "code",
      "source": [
        "!git push --set-upstream origin master"
      ],
      "metadata": {
        "colab": {
          "base_uri": "https://localhost:8080/"
        },
        "id": "9Cpvy7oZiEwJ",
        "outputId": "74b04626-fa64-4c24-cbda-ff727994266b"
      },
      "execution_count": 28,
      "outputs": [
        {
          "output_type": "stream",
          "name": "stdout",
          "text": [
            "error: src refspec master does not match any\n",
            "\u001b[31merror: failed to push some refs to 'https://github.com/NayanKanaparthi/News-Headlines-sarcasm-detection-NLP.git'\n",
            "\u001b[m"
          ]
        }
      ]
    },
    {
      "cell_type": "code",
      "source": [],
      "metadata": {
        "id": "m6kjfy3JiJyA"
      },
      "execution_count": null,
      "outputs": []
    }
  ]
}